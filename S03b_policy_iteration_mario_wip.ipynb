{
 "cells": [
  {
   "cell_type": "code",
   "execution_count": 1,
   "metadata": {},
   "outputs": [],
   "source": [
    "#!/usr/bin/env python3\n",
    "# -*- coding: utf-8 -*-"
   ]
  },
  {
   "cell_type": "markdown",
   "metadata": {},
   "source": [
    "# Deep Neural Networks \n",
    "## Reinforcement Learning\n",
    "\n",
    "\n",
    "##  Policy Iteration Mario\n",
    "\n",
    "    \n",
    "<img src='../../images/prasami_color_tutorials_small.png' style = 'width:400px;' alt=\"By Pramod Sharma : pramod.sharma@prasami.com\" align=\"left\"/>"
   ]
  },
  {
   "cell_type": "code",
   "execution_count": 1,
   "metadata": {},
   "outputs": [],
   "source": [
    "# Import statements\n",
    "\n",
    "import numpy as np\n",
    "\n",
    "import os\n",
    "\n",
    "import matplotlib.pyplot as plt\n",
    "\n",
    "from utils.gridWorldGame import standard_grid, negative_grid,print_values, print_policy"
   ]
  },
  {
   "cell_type": "markdown",
   "metadata": {},
   "source": [
    "<img src = './images/mario_game.png'>\n"
   ]
  },
  {
   "cell_type": "code",
   "execution_count": 2,
   "metadata": {},
   "outputs": [],
   "source": [
    "# Some basic parameters\n",
    "inpDir = '../input'\n",
    "outDir = '../output'\n",
    "\n",
    "RANDOM_STATE = 24\n",
    "\n",
    "np.random.seed(RANDOM_STATE)\n",
    "\n",
    "STEPS = 200\n",
    "\n",
    "# parameters for Matplotlib\n",
    "params = {'legend.fontsize': 'x-large',\n",
    "          'figure.figsize': (9, 6),\n",
    "          'axes.labelsize': 'x-large',\n",
    "          'axes.titlesize':'x-large',\n",
    "          'xtick.labelsize':'x-large',\n",
    "          'ytick.labelsize':'x-large'\n",
    "         }\n",
    "\n",
    "plt.rcParams.update(params)\n",
    "\n",
    "\n",
    "SMALL_ENOUGH = 1e-3\n",
    "\n",
    "GAMMA = 0.99\n",
    "\n",
    "ALL_POSSIBLE_ACTIONS = ('U', 'D', 'L', 'R')"
   ]
  },
  {
   "cell_type": "code",
   "execution_count": 3,
   "metadata": {},
   "outputs": [
    {
     "name": "stdout",
     "output_type": "stream",
     "text": [
      "Rewards:\n",
      "---------------------------\n",
      "-0.10|-0.10|-0.10| 1.00|\n",
      "---------------------------\n",
      "-0.10| 0.00|-0.10|-1.00|\n",
      "---------------------------\n",
      "-0.10|-0.10|-0.10|-0.10|\n"
     ]
    }
   ],
   "source": [
    "# Lets create a Grid for our Mario\n",
    "grid = negative_grid()\n",
    "\n",
    "print(\"Rewards:\")\n",
    "print_values(grid.rewards, grid)"
   ]
  },
  {
   "cell_type": "markdown",
   "metadata": {},
   "source": [
    "## Actions"
   ]
  },
  {
   "cell_type": "code",
   "execution_count": 4,
   "metadata": {},
   "outputs": [
    {
     "name": "stdout",
     "output_type": "stream",
     "text": [
      "Action Keys: dict_keys([(0, 0), (0, 1), (0, 2), (1, 0), (1, 2), (2, 0), (2, 1), (2, 2), (2, 3)])\n"
     ]
    }
   ],
   "source": [
    "# Note: Grid Action keys are defined along with the grid\n",
    "\n",
    "print (\"Action Keys:\", grid.actions.keys())"
   ]
  },
  {
   "cell_type": "markdown",
   "metadata": {},
   "source": [
    "**Note**: No action defined for terminal state or for inaccessible state."
   ]
  },
  {
   "cell_type": "markdown",
   "metadata": {},
   "source": [
    "## Define Policies for these actions"
   ]
  },
  {
   "cell_type": "code",
   "execution_count": 5,
   "metadata": {},
   "outputs": [
    {
     "name": "stdout",
     "output_type": "stream",
     "text": [
      "Initial policy:\n",
      "---------------------------\n",
      "  L  |  R  |  U  |     |\n",
      "---------------------------\n",
      "  R  |     |  D  |     |\n",
      "---------------------------\n",
      "  D  |  D  |  U  |  R  |\n"
     ]
    }
   ],
   "source": [
    "# Lets Define a Dict for policy\n",
    "# It is a random policy to start with\n",
    "\n",
    "policy = {}\n",
    "\n",
    "for s in grid.actions.keys():\n",
    "    \n",
    "    policy[s] = np.random.choice(ALL_POSSIBLE_ACTIONS)\n",
    "    \n",
    "# initial policy\n",
    "print(\"Initial policy:\")\n",
    "\n",
    "print_policy(policy, grid)"
   ]
  },
  {
   "cell_type": "markdown",
   "metadata": {},
   "source": [
    "## States"
   ]
  },
  {
   "cell_type": "code",
   "execution_count": 6,
   "metadata": {},
   "outputs": [
    {
     "name": "stdout",
     "output_type": "stream",
     "text": [
      "States: {(0, 1), (1, 2), (2, 1), (0, 2), (2, 2), (1, 0), (1, 3), (0, 0), (0, 3), (2, 0), (2, 3)}\n"
     ]
    }
   ],
   "source": [
    "states = grid.all_states()\n",
    "\n",
    "print ('States:', states)"
   ]
  },
  {
   "cell_type": "markdown",
   "metadata": {},
   "source": [
    "### Note that 1,1 is missing from states. There is neither a reward nor any valid action!"
   ]
  },
  {
   "cell_type": "code",
   "execution_count": 7,
   "metadata": {},
   "outputs": [
    {
     "name": "stdout",
     "output_type": "stream",
     "text": [
      "---------------------------\n",
      " 0.02| 0.51| 0.62| 0.00|\n",
      "---------------------------\n",
      " 0.56| 0.00| 0.79| 0.00|\n",
      "---------------------------\n",
      " 0.66| 0.47| 0.27| 0.40|\n"
     ]
    }
   ],
   "source": [
    "# Initialize V(s) - value function\n",
    "# Again a dict with keys as states\n",
    "# Random initialization of all Values where action is needed\n",
    "# zero for terminal states\n",
    "V = {}\n",
    "-\n",
    "for s in states:\n",
    "    \n",
    "    if s in grid.actions:\n",
    "        \n",
    "        V[s] = np.random.random()\n",
    "        \n",
    "    else:\n",
    "        \n",
    "        V[s] = 0\n",
    "\n",
    "# Initial value for all states in grid\n",
    "# print(V)\n",
    "print_values(V, grid)"
   ]
  },
  {
   "cell_type": "code",
   "execution_count": 8,
   "metadata": {
    "scrolled": false
   },
   "outputs": [
    {
     "name": "stdout",
     "output_type": "stream",
     "text": [
      "\n",
      "\n",
      "Values 1: \n",
      "---------------------------\n",
      " 0.02| 0.51| 0.62| 0.00|\n",
      "---------------------------\n",
      " 0.56| 0.00| 0.79| 0.00|\n",
      "---------------------------\n",
      " 0.66| 0.47| 0.27| 0.40|\n",
      "\n",
      "Policy 1: \n",
      "---------------------------\n",
      "  L  |  R  |  U  |     |\n",
      "---------------------------\n",
      "  R  |     |  D  |     |\n",
      "---------------------------\n",
      "  D  |  D  |  U  |  R  |\n",
      "\n",
      "\n",
      "\n",
      "\n",
      "Values 2: \n",
      "---------------------------\n",
      "-9.91|-9.90|-9.90| 0.00|\n",
      "---------------------------\n",
      "-9.90| 0.00|-10.00| 0.00|\n",
      "---------------------------\n",
      "-9.90|-9.90|-10.00|-9.90|\n",
      "\n",
      "Policy 2: \n",
      "---------------------------\n",
      "  R  |  U  |  R  |     |\n",
      "---------------------------\n",
      "  D  |     |  R  |     |\n",
      "---------------------------\n",
      "  D  |  L  |  L  |  U  |\n",
      "\n",
      "\n",
      "\n",
      "\n",
      "Values 3: \n",
      "---------------------------\n",
      "-9.90|-9.90| 1.00| 0.00|\n",
      "---------------------------\n",
      "-9.90| 0.00|-1.00| 0.00|\n",
      "---------------------------\n",
      "-9.90|-9.90|-9.90|-1.00|\n",
      "\n",
      "Policy 3: \n",
      "---------------------------\n",
      "  D  |  R  |  R  |     |\n",
      "---------------------------\n",
      "  D  |     |  U  |     |\n",
      "---------------------------\n",
      "  U  |  U  |  U  |  U  |\n",
      "\n",
      "\n",
      "\n",
      "\n",
      "Values 4: \n",
      "---------------------------\n",
      "-9.95| 0.89| 1.00| 0.00|\n",
      "---------------------------\n",
      "-9.95| 0.00| 0.89| 0.00|\n",
      "---------------------------\n",
      "-9.95|-9.93| 0.78|-1.00|\n",
      "\n",
      "Policy 4: \n",
      "---------------------------\n",
      "  R  |  R  |  R  |     |\n",
      "---------------------------\n",
      "  L  |     |  U  |     |\n",
      "---------------------------\n",
      "  R  |  R  |  U  |  L  |\n",
      "\n",
      "\n",
      "\n",
      "\n",
      "Values 5: \n",
      "---------------------------\n",
      " 0.78| 0.89| 1.00| 0.00|\n",
      "---------------------------\n",
      "-9.95| 0.00| 0.89| 0.00|\n",
      "---------------------------\n",
      " 0.57| 0.67| 0.78| 0.67|\n",
      "\n",
      "Policy 5: \n",
      "---------------------------\n",
      "  R  |  R  |  R  |     |\n",
      "---------------------------\n",
      "  U  |     |  U  |     |\n",
      "---------------------------\n",
      "  R  |  R  |  U  |  L  |\n",
      "\n",
      "\n",
      "\n",
      "\n",
      "Values 6: \n",
      "---------------------------\n",
      " 0.78| 0.89| 1.00| 0.00|\n",
      "---------------------------\n",
      " 0.67| 0.00| 0.89| 0.00|\n",
      "---------------------------\n",
      " 0.57| 0.67| 0.78| 0.67|\n",
      "\n",
      "Policy 6: \n",
      "---------------------------\n",
      "  R  |  R  |  R  |     |\n",
      "---------------------------\n",
      "  U  |     |  U  |     |\n",
      "---------------------------\n",
      "  U  |  R  |  U  |  L  |\n",
      "\n",
      "\n"
     ]
    }
   ],
   "source": [
    "iter = 0\n",
    "\n",
    "# Policy Iterations till convergence\n",
    "while True:\n",
    "    \n",
    "    iter += 1\n",
    "    \n",
    "    print(\"\\n\\nValues %d: \" % iter)\n",
    "    print_values(V, grid)\n",
    "    \n",
    "    print(\"\\nPolicy %d: \" % iter)\n",
    "    print_policy(policy, grid)\n",
    "    print ('\\n')\n",
    "\n",
    "    # policy evaluation step\n",
    "    while True:\n",
    "        \n",
    "        biggest_change = 0\n",
    "        \n",
    "        for s in states:\n",
    "            \n",
    "            old_v = V[s]\n",
    "\n",
    "            # V(s) only has value if it's not a terminal state\n",
    "            if s in policy:\n",
    "                \n",
    "                a = policy[s]\n",
    "                \n",
    "                grid.set_state(s) # Pick the point of this state \n",
    "                \n",
    "                r = grid.move(a) # Get the Reward\n",
    "                \n",
    "                V[s] = r + GAMMA * V[grid.current_state()] # get Value for current location and update\n",
    "                \n",
    "                biggest_change = max(biggest_change, np.abs(old_v - V[s]))\n",
    "\n",
    "        if biggest_change < SMALL_ENOUGH:\n",
    "            \n",
    "            is_policy_converged = True\n",
    "\n",
    "            break\n",
    "\n",
    "    # policy improvement step\n",
    "    \n",
    "    for s in states:\n",
    "        \n",
    "        if s in policy:\n",
    "            \n",
    "            old_a = policy[s]\n",
    "            \n",
    "            new_a = None\n",
    "            \n",
    "            best_value = float('-inf')\n",
    "            \n",
    "            # loop through all possible actions to find the best current action\n",
    "            for a in ALL_POSSIBLE_ACTIONS:\n",
    "                \n",
    "                grid.set_state(s)\n",
    "                \n",
    "                r = grid.move(a)\n",
    "                \n",
    "                v = r + GAMMA * V[grid.current_state()]\n",
    "                \n",
    "                if v > best_value:\n",
    "                    \n",
    "                    best_value = v\n",
    "                    \n",
    "                    new_a = a\n",
    "            \n",
    "            policy[s] = new_a\n",
    "            \n",
    "            if new_a != old_a:\n",
    "                \n",
    "                is_policy_converged = False\n",
    "\n",
    "    if is_policy_converged:\n",
    "        break"
   ]
  },
  {
   "cell_type": "code",
   "execution_count": 9,
   "metadata": {},
   "outputs": [
    {
     "name": "stdout",
     "output_type": "stream",
     "text": [
      "\n",
      "Final values:\n",
      "---------------------------\n",
      " 0.78| 0.89| 1.00| 0.00|\n",
      "---------------------------\n",
      " 0.67| 0.00| 0.89| 0.00|\n",
      "---------------------------\n",
      " 0.57| 0.67| 0.78| 0.67|\n",
      "\n",
      "Final policy:\n",
      "---------------------------\n",
      "  R  |  R  |  R  |     |\n",
      "---------------------------\n",
      "  U  |     |  U  |     |\n",
      "---------------------------\n",
      "  U  |  R  |  U  |  L  |\n"
     ]
    }
   ],
   "source": [
    "print(\"\\nFinal values:\")\n",
    "print_values(V, grid)\n",
    "print(\"\\nFinal policy:\")\n",
    "print_policy(policy, grid)"
   ]
  },
  {
   "cell_type": "markdown",
   "metadata": {},
   "source": [
    "<img src = './images/mario_game.png'>"
   ]
  },
  {
   "cell_type": "code",
   "execution_count": null,
   "metadata": {},
   "outputs": [],
   "source": []
  }
 ],
 "metadata": {
  "kernelspec": {
   "display_name": "Python 3 (ipykernel)",
   "language": "python",
   "name": "python3"
  },
  "language_info": {
   "codemirror_mode": {
    "name": "ipython",
    "version": 3
   },
   "file_extension": ".py",
   "mimetype": "text/x-python",
   "name": "python",
   "nbconvert_exporter": "python",
   "pygments_lexer": "ipython3",
   "version": "3.10.6"
  }
 },
 "nbformat": 4,
 "nbformat_minor": 4
}
