{
 "cells": [
  {
   "cell_type": "code",
   "execution_count": 1,
   "metadata": {},
   "outputs": [],
   "source": [
    "#!/usr/bin/env python3\n",
    "# -*- coding: utf-8 -*-"
   ]
  },
  {
   "cell_type": "markdown",
   "metadata": {},
   "source": [
    "# Deep Neural Networks \n",
    "## Reinforcement Learning\n",
    "\n",
    "\n",
    "##  Value Iteration Mario\n",
    "\n",
    "    \n",
    "<img src='../../images/prasami_color_tutorials_small.png' style = 'width:400px;' alt=\"By Pramod Sharma : pramod.sharma@prasami.com\" align=\"left\"/>"
   ]
  },
  {
   "cell_type": "code",
   "execution_count": 2,
   "metadata": {},
   "outputs": [],
   "source": [
    "# Import statements\n",
    "\n",
    "import numpy as np\n",
    "import os\n",
    "import matplotlib.pyplot as plt\n",
    "\n",
    "from utils.gridWorldGame import standard_grid, negative_grid,print_values, print_policy"
   ]
  },
  {
   "cell_type": "markdown",
   "metadata": {},
   "source": [
    "<img src = './images/mario_game.png'>"
   ]
  },
  {
   "cell_type": "code",
   "execution_count": 3,
   "metadata": {},
   "outputs": [],
   "source": [
    "# Some basic parameters\n",
    "inpDir = '../input'\n",
    "outDir = '../output'\n",
    "\n",
    "RANDOM_STATE = 24\n",
    "\n",
    "np.random.seed(RANDOM_STATE)\n",
    "\n",
    "STEPS = 200\n",
    "\n",
    "# parameters for Matplotlib\n",
    "params = {'legend.fontsize': 'x-large',\n",
    "          'figure.figsize': (9, 6),\n",
    "          'axes.labelsize': 'x-large',\n",
    "          'axes.titlesize':'x-large',\n",
    "          'xtick.labelsize':'x-large',\n",
    "          'ytick.labelsize':'x-large'\n",
    "         }\n",
    "\n",
    "plt.rcParams.update(params)\n",
    "\n",
    "\n",
    "SMALL_ENOUGH = 1e-3\n",
    "\n",
    "GAMMA = 0.9\n",
    "\n",
    "ALL_POSSIBLE_ACTIONS = ('U', 'D', 'L', 'R')"
   ]
  },
  {
   "cell_type": "code",
   "execution_count": 4,
   "metadata": {},
   "outputs": [
    {
     "name": "stdout",
     "output_type": "stream",
     "text": [
      "Rewards:\n",
      "---------------------------\n",
      "-0.10|-0.10|-0.10| 1.00|\n",
      "---------------------------\n",
      "-0.10| 0.00|-0.10|-1.00|\n",
      "---------------------------\n",
      "-0.10|-0.10|-0.10|-0.10|\n"
     ]
    }
   ],
   "source": [
    "# Lets create a Grid for our Mario\n",
    "grid = negative_grid()\n",
    "\n",
    "print(\"Rewards:\")\n",
    "\n",
    "print_values(grid.rewards, grid)"
   ]
  },
  {
   "cell_type": "markdown",
   "metadata": {},
   "source": [
    "## Actions"
   ]
  },
  {
   "cell_type": "code",
   "execution_count": 5,
   "metadata": {},
   "outputs": [
    {
     "name": "stdout",
     "output_type": "stream",
     "text": [
      "Action Keys: dict_keys([(0, 0), (0, 1), (0, 2), (1, 0), (1, 2), (2, 0), (2, 1), (2, 2), (2, 3)])\n"
     ]
    }
   ],
   "source": [
    "# Note: Grid Action keys are defined along with the grid\n",
    "\n",
    "print (\"Action Keys:\", grid.actions.keys())"
   ]
  },
  {
   "cell_type": "markdown",
   "metadata": {},
   "source": [
    "**Note**: No action defined for terminal state\n",
    "## Define Policies for these actions"
   ]
  },
  {
   "cell_type": "code",
   "execution_count": 6,
   "metadata": {},
   "outputs": [
    {
     "name": "stdout",
     "output_type": "stream",
     "text": [
      "Initial policy:\n",
      "---------------------------\n",
      "  L  |  R  |  U  |     |\n",
      "---------------------------\n",
      "  R  |     |  D  |     |\n",
      "---------------------------\n",
      "  D  |  D  |  U  |  R  |\n"
     ]
    }
   ],
   "source": [
    "# Lets Define a Dict for policy\n",
    "policy = {}\n",
    "\n",
    "for s in grid.actions.keys():\n",
    "    \n",
    "    policy[s] = np.random.choice(ALL_POSSIBLE_ACTIONS)\n",
    "    \n",
    "# initial policy\n",
    "print(\"Initial policy:\")\n",
    "\n",
    "print_policy(policy, grid)"
   ]
  },
  {
   "cell_type": "markdown",
   "metadata": {},
   "source": [
    "## States"
   ]
  },
  {
   "cell_type": "code",
   "execution_count": 7,
   "metadata": {},
   "outputs": [
    {
     "name": "stdout",
     "output_type": "stream",
     "text": [
      "States: {(0, 1), (1, 2), (2, 1), (0, 2), (2, 2), (1, 0), (1, 3), (0, 0), (0, 3), (2, 0), (2, 3)}\n"
     ]
    }
   ],
   "source": [
    "states = grid.all_states()\n",
    "\n",
    "print ('States:', states)"
   ]
  },
  {
   "cell_type": "code",
   "execution_count": 8,
   "metadata": {},
   "outputs": [
    {
     "name": "stdout",
     "output_type": "stream",
     "text": [
      "---------------------------\n",
      " 0.02| 0.51| 0.62| 0.00|\n",
      "---------------------------\n",
      " 0.56| 0.00| 0.79| 0.00|\n",
      "---------------------------\n",
      " 0.66| 0.47| 0.27| 0.40|\n"
     ]
    }
   ],
   "source": [
    "# Initialize V(s) - value function\n",
    "# Again a dict with keys as states\n",
    "# Random initialization of all Values where action is needed\n",
    "# zero for terminal states\n",
    "\n",
    "V = {}\n",
    "\n",
    "for s in states:\n",
    "    \n",
    "    if s in grid.actions:\n",
    "        V[s] = np.random.random()\n",
    "    else:\n",
    "        V[s] = 0\n",
    "\n",
    "# Initial value for all states in grid\n",
    "# print(V)\n",
    "\n",
    "print_values(V, grid)"
   ]
  },
  {
   "cell_type": "code",
   "execution_count": 9,
   "metadata": {},
   "outputs": [
    {
     "name": "stdout",
     "output_type": "stream",
     "text": [
      "\n",
      "\n",
      "Values:\n",
      "---------------------------\n",
      " 0.02| 0.51| 0.62| 0.00|\n",
      "---------------------------\n",
      " 0.56| 0.00| 0.79| 0.00|\n",
      "---------------------------\n",
      " 0.66| 0.47| 0.27| 0.40|\n",
      "\n",
      "Policy 1: \n",
      "---------------------------\n",
      "  L  |  R  |  U  |     |\n",
      "---------------------------\n",
      "  R  |     |  D  |     |\n",
      "---------------------------\n",
      "  D  |  D  |  U  |  R  |\n",
      "\n",
      "\n",
      "Values:\n",
      "---------------------------\n",
      " 0.35| 0.46| 1.00| 0.00|\n",
      "---------------------------\n",
      " 0.50| 0.00| 0.61| 0.00|\n",
      "---------------------------\n",
      " 0.50| 0.50| 0.45| 0.30|\n",
      "\n",
      "Policy 2: \n",
      "---------------------------\n",
      "  L  |  R  |  U  |     |\n",
      "---------------------------\n",
      "  R  |     |  D  |     |\n",
      "---------------------------\n",
      "  D  |  D  |  U  |  R  |\n",
      "\n",
      "\n",
      "Values:\n",
      "---------------------------\n",
      " 0.62| 0.80| 1.00| 0.00|\n",
      "---------------------------\n",
      " 0.35| 0.00| 0.80| 0.00|\n",
      "---------------------------\n",
      " 0.35| 0.35| 0.62| 0.46|\n",
      "\n",
      "Policy 3: \n",
      "---------------------------\n",
      "  L  |  R  |  U  |     |\n",
      "---------------------------\n",
      "  R  |     |  D  |     |\n",
      "---------------------------\n",
      "  D  |  D  |  U  |  R  |\n",
      "\n",
      "\n",
      "Values:\n",
      "---------------------------\n",
      " 0.62| 0.80| 1.00| 0.00|\n",
      "---------------------------\n",
      " 0.46| 0.00| 0.80| 0.00|\n",
      "---------------------------\n",
      " 0.31| 0.46| 0.62| 0.46|\n",
      "\n",
      "Policy 4: \n",
      "---------------------------\n",
      "  L  |  R  |  U  |     |\n",
      "---------------------------\n",
      "  R  |     |  D  |     |\n",
      "---------------------------\n",
      "  D  |  D  |  U  |  R  |\n"
     ]
    }
   ],
   "source": [
    "# All changes from the policy iterations will be imployed here\n",
    "# repeat until convergence\n",
    "# V[s] = max[a]{ sum[s',r] { p(s',r|s,a)[r + gamma*V[s']] } }\n",
    "\n",
    "iter = 0\n",
    "\n",
    "while True:\n",
    "    \n",
    "    iter += 1\n",
    "    \n",
    "    print(\"\\n\\nValues:\")\n",
    "    \n",
    "    print_values(V, grid)\n",
    "    \n",
    "    print(\"\\nPolicy %d: \" % iter)\n",
    "    \n",
    "    print_policy(policy, grid)\n",
    "      \n",
    "    biggest_change = 0\n",
    "    \n",
    "    for s in states:\n",
    "        \n",
    "        old_v = V[s]\n",
    "\n",
    "        # V(s) only has value if it's not a terminal state\n",
    "        if s in policy:\n",
    "            \n",
    "            new_v = -np.inf\n",
    "            \n",
    "            for a in ALL_POSSIBLE_ACTIONS:\n",
    "                \n",
    "                grid.set_state(s) # Pick the point of this state \n",
    "                \n",
    "                r = grid.move(a) # Get the Reward\n",
    "                \n",
    "                v = r + GAMMA * V[grid.current_state()] # get Value for current location and\n",
    "                \n",
    "                if v > new_v:\n",
    "                    \n",
    "                    new_v = v\n",
    "            \n",
    "            V[s] = new_v\n",
    "            \n",
    "            biggest_change = max(biggest_change, np.abs(old_v - V[s]))\n",
    "\n",
    "    if biggest_change < SMALL_ENOUGH:\n",
    "        break"
   ]
  },
  {
   "cell_type": "code",
   "execution_count": 10,
   "metadata": {},
   "outputs": [
    {
     "name": "stdout",
     "output_type": "stream",
     "text": [
      "\n",
      "\n",
      "Final Results: \n",
      "Values:\n",
      "---------------------------\n",
      " 0.62| 0.80| 1.00| 0.00|\n",
      "---------------------------\n",
      " 0.46| 0.00| 0.80| 0.00|\n",
      "---------------------------\n",
      " 0.31| 0.46| 0.62| 0.46|\n",
      "\n",
      "Policy:\n",
      "---------------------------\n",
      "  R  |  R  |  R  |     |\n",
      "---------------------------\n",
      "  U  |     |  U  |     |\n",
      "---------------------------\n",
      "  U  |  R  |  U  |  L  |\n"
     ]
    }
   ],
   "source": [
    "        \n",
    "# find a policy that leads to optimal value function\n",
    "for s in policy.keys():\n",
    "    \n",
    "    best_a = None\n",
    "    \n",
    "    best_value = -np.inf\n",
    "    \n",
    "    # loop through all possible actions to find the best current action\n",
    "    for a in ALL_POSSIBLE_ACTIONS:\n",
    "        \n",
    "        grid.set_state(s)\n",
    "        \n",
    "        r = grid.move(a)\n",
    "        \n",
    "        v = r + GAMMA * V[grid.current_state()]\n",
    "        \n",
    "        if v > best_value:\n",
    "            \n",
    "            best_value = v\n",
    "            \n",
    "            best_a = a\n",
    "    \n",
    "    policy[s] = best_a\n",
    "\n",
    "# Our goal here is to verify that we get the same answer as with policy iteration\n",
    "print(\"\\n\\nFinal Results: \\nValues:\")\n",
    "print_values(V, grid)\n",
    "\n",
    "print(\"\\nPolicy:\")\n",
    "print_policy(policy, grid)"
   ]
  },
  {
   "cell_type": "code",
   "execution_count": null,
   "metadata": {},
   "outputs": [],
   "source": []
  },
  {
   "cell_type": "code",
   "execution_count": null,
   "metadata": {},
   "outputs": [],
   "source": []
  }
 ],
 "metadata": {
  "kernelspec": {
   "display_name": "Python 3 (ipykernel)",
   "language": "python",
   "name": "python3"
  },
  "language_info": {
   "codemirror_mode": {
    "name": "ipython",
    "version": 3
   },
   "file_extension": ".py",
   "mimetype": "text/x-python",
   "name": "python",
   "nbconvert_exporter": "python",
   "pygments_lexer": "ipython3",
   "version": "3.10.6"
  }
 },
 "nbformat": 4,
 "nbformat_minor": 4
}
