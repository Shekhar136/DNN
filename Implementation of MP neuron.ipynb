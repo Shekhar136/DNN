{
 "cells": [
  {
   "cell_type": "code",
   "execution_count": 1,
   "id": "f027e17f",
   "metadata": {},
   "outputs": [],
   "source": [
    "import numpy as np\n",
    "import pandas as pd\n",
    "import matplotlib.pyplot as plt\n",
    "from sklearn import datasets\n",
    "from sklearn.model_selection import train_test_split\n",
    "from sklearn.metrics import accuracy_score\n",
    "%matplotlib inline"
   ]
  },
  {
   "cell_type": "markdown",
   "id": "cab2210d",
   "metadata": {},
   "source": [
    "## 2. setup Global Parameters"
   ]
  },
  {
   "cell_type": "code",
   "execution_count": 2,
   "id": "dffe345e",
   "metadata": {},
   "outputs": [],
   "source": [
    "inpDir='../input'\n",
    "outDir='../output'\n",
    "RANDOM_STATE=24\n",
    "np.random.seed(RANDOM_STATE)\n"
   ]
  },
  {
   "cell_type": "code",
   "execution_count": null,
   "id": "bf9c827d",
   "metadata": {},
   "outputs": [],
   "source": [
    "params={'legend.fontsize':'x-large',\n",
    "       'figure.figsize':(15,12),\n",
    "       'axes.labelsize':'x-large',\n",
    "       'axes.titlesize'}"
   ]
  }
 ],
 "metadata": {
  "kernelspec": {
   "display_name": "Python 3 (ipykernel)",
   "language": "python",
   "name": "python3"
  },
  "language_info": {
   "codemirror_mode": {
    "name": "ipython",
    "version": 3
   },
   "file_extension": ".py",
   "mimetype": "text/x-python",
   "name": "python",
   "nbconvert_exporter": "python",
   "pygments_lexer": "ipython3",
   "version": "3.10.6"
  }
 },
 "nbformat": 4,
 "nbformat_minor": 5
}
